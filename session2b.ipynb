{
 "cells": [
  {
   "cell_type": "markdown",
   "metadata": {},
   "source": [
    "# Session 2b: Monte Carlo Methods in Grid World"
   ]
  },
  {
   "cell_type": "markdown",
   "metadata": {},
   "source": [
    "## Colab Setup"
   ]
  },
  {
   "cell_type": "code",
   "execution_count": 1,
   "metadata": {},
   "outputs": [],
   "source": [
    "#uncomment only if you're running from google colab\n",
    "# !git clone https://github.com/Datatouille/rl-workshop\n",
    "# !mv rl-workshop/* .\n",
    "# !ls"
   ]
  },
  {
   "cell_type": "markdown",
   "metadata": {},
   "source": [
    "## Imports"
   ]
  },
  {
   "cell_type": "code",
   "execution_count": 2,
   "metadata": {},
   "outputs": [],
   "source": [
    "import numpy as np\n",
    "from collections import defaultdict\n",
    "import matplotlib.pyplot as plt\n",
    "#cross check with our solutions once you finish\n",
    "# from solutions.agents import GridworldAgent\n",
    "from solutions.environments import Gridworld"
   ]
  },
  {
   "cell_type": "markdown",
   "metadata": {},
   "source": [
    "## Fill in The Code"
   ]
  },
  {
   "cell_type": "code",
   "execution_count": 3,
   "metadata": {},
   "outputs": [],
   "source": [
    "import numpy as np\n",
    "from collections import defaultdict\n",
    "import sys\n",
    "\n",
    "\"\"\"\n",
    "Coding assignment order:\n",
    "1. get_v\n",
    "2. get_q\n",
    "3. mc_control_q\n",
    "4. mc_control_glie\n",
    "\"\"\"\n",
    "\n",
    "class GridworldAgent:\n",
    "    def __init__(self, env, policy, gamma = 0.9, \n",
    "                 start_epsilon = 0.9, end_epsilon = 0.1, epsilon_decay = 0.9):\n",
    "        self.env = env\n",
    "        self.n_action = len(self.env.action_space)\n",
    "        self.policy = policy\n",
    "        self.gamma = gamma\n",
    "        self.v = dict.fromkeys(self.env.state_space,0)\n",
    "        self.n_v = dict.fromkeys(self.env.state_space,0)\n",
    "        self.q = defaultdict(lambda: np.zeros(self.n_action))\n",
    "        self.n_q = defaultdict(lambda: np.zeros(self.n_action))\n",
    "        self.start_epsilon = start_epsilon\n",
    "        self.end_epsilon = end_epsilon\n",
    "        self.epsilon_decay = epsilon_decay\n",
    "    def get_epsilon(self,n_episode):\n",
    "        epsilon = max(self.start_epsilon * (self.epsilon_decay**n_episode),self.end_epsilon)\n",
    "        return(epsilon)\n",
    "    def get_v(self,start_state,epsilon = 0.):\n",
    "        episode = self.run_episode(start_state,epsilon)\n",
    "        \"\"\"\n",
    "        Write the code to calculate the state value function of a state \n",
    "        given a deterministic policy.\n",
    "        \"\"\"\n",
    "        v=0\n",
    "        \n",
    "        return(v)\n",
    "    def get_q(self, start_state, first_action, epsilon=0.):\n",
    "        episode = self.run_episode(start_state,epsilon,first_action)\n",
    "        \"\"\"\n",
    "        Write the code to calculate the action function of a state \n",
    "        given a deterministic policy.\n",
    "        \"\"\"\n",
    "        q=0\n",
    "        return(q)\n",
    "    def select_action(self,state,epsilon):\n",
    "        probs = np.ones(self.n_action) * (epsilon / self.n_action)\n",
    "        best_action = self.policy[state]\n",
    "        probs[best_action] = 1 - epsilon + (epsilon / self.n_action)\n",
    "        action = np.random.choice(np.arange(self.n_action),p=probs)\n",
    "        return(action)\n",
    "    def print_policy(self):\n",
    "        for i in range(self.env.sz[0]):\n",
    "            print('\\n----------')\n",
    "            for j in range(self.env.sz[1]):\n",
    "                p=self.policy[(i,j)]\n",
    "                out = self.env.action_text[p]\n",
    "                print(f'{out} |',end='')\n",
    "    def print_v(self, decimal = 1):\n",
    "        for i in range(self.env.sz[0]):\n",
    "            print('\\n---------------')\n",
    "            for j in range(self.env.sz[1]):\n",
    "                out=np.round(self.v[(i,j)],decimal)\n",
    "                print(f'{out} |',end='')\n",
    "    def run_episode(self, start, epsilon, first_action = None):\n",
    "        result = []\n",
    "        state = self.env.reset(start)\n",
    "        #dictate first action to iterate q\n",
    "        if first_action is not None:\n",
    "            action = first_action\n",
    "            next_state,reward,done = self.env.step(action)\n",
    "            result.append((state,action,reward,next_state,done))\n",
    "            state = next_state\n",
    "            if done: return(result)\n",
    "        while True:\n",
    "            action = self.select_action(state,epsilon)\n",
    "            next_state,reward,done = self.env.step(action)\n",
    "            result.append((state,action,reward,next_state,done))\n",
    "            state = next_state\n",
    "            if done: break\n",
    "        return(result)\n",
    "    def update_policy_q(self):\n",
    "        for state in self.env.state_space:\n",
    "            self.policy[state] = np.argmax(self.q[state])\n",
    "    def mc_predict_v(self,n_episode=10000,first_visit=True):\n",
    "        for t in range(n_episode):\n",
    "            traversed = []\n",
    "            e = self.get_epsilon(t)\n",
    "            transitions = self.run_episode(self.env.start,e)\n",
    "            states,actions,rewards,next_states,dones = zip(*transitions)\n",
    "            for i in range(len(transitions)):\n",
    "                if first_visit and (states[i] not in traversed):\n",
    "                    traversed.append(states[i])\n",
    "                    self.n_v[states[i]]+=1\n",
    "                    discounts = np.array([self.gamma**j for j in range(len(transitions)+1)])\n",
    "                    self.v[states[i]]+= sum(rewards[i:]*discounts[:-(1+i)])\n",
    "        for state in self.env.state_space:\n",
    "            if state != self.env.goal:\n",
    "                self.v[state] = self.v[state] / self.n_v[state]\n",
    "            else:\n",
    "                self.v[state] = 0\n",
    "    \n",
    "    def mc_predict_q(self,n_episode=10000,first_visit=True):\n",
    "        for t in range(n_episode):\n",
    "            traversed = []\n",
    "            e = self.get_epsilon(t)\n",
    "            transitions = self.run_episode(self.env.start,e)\n",
    "            states,actions,rewards,next_states,dones = zip(*transitions)\n",
    "            for i in range(len(transitions)):\n",
    "                if first_visit and ((states[i],actions[i]) not in traversed):\n",
    "                    traversed.append((states[i],actions[i]))\n",
    "                    self.n_q[states[i]][actions[i]]+=1\n",
    "                    discounts = np.array([self.gamma**j for j in range(len(transitions)+1)])\n",
    "                    self.q[states[i]][actions[i]]+= sum(rewards[i:]*discounts[:-(1+i)])\n",
    "                elif not first_visit:\n",
    "                    self.n_q[states[i]][actions[i]]+=1\n",
    "                    discounts = np.array([self.gamma**j for j in range(len(transitions)+1)])\n",
    "                    self.q[states[i]][actions[i]]+= sum(rewards[i:]*discounts[:-(1+i)])\n",
    "\n",
    "        #print(self.q,self.n_q)\n",
    "        for state in self.env.state_space:\n",
    "            for action in range(self.n_action):\n",
    "                if state != self.env.goal:\n",
    "                    self.q[state][action] = self.q[state][action] / self.n_q[state][action]\n",
    "                else:\n",
    "                    self.q[state][action] = 0\n",
    "        \n",
    "    def mc_control_q(self,n_episode=10000,first_visit=True):\n",
    "        \"\"\"\n",
    "        Write the code to perform Monte Carlo Control\n",
    "        Hint: You just need to do prediction then update the policy\n",
    "        \"\"\"\n",
    "        pass\n",
    "        \n",
    "    def mc_control_glie(self,n_episode=10000,first_visit=True,lr=0.):\n",
    "        \"\"\"\n",
    "        Taking hints from the mc_predict_q and mc_control_q methods, write the code to\n",
    "        perform GLIE Monte Carlo control.\n",
    "        \"\"\"\n",
    "        pass"
   ]
  },
  {
   "cell_type": "markdown",
   "metadata": {},
   "source": [
    "![RL Framework](img/rl_framework.png)\n",
    "Source: [Sutton and Barto](https://cdn.preterhuman.net/texts/science_and_technology/artificial_intelligence/Reinforcement%20Learning%20%20An%20Introduction%20-%20Richard%20S.%20Sutton%20,%20Andrew%20G.%20Barto.pdf)"
   ]
  },
  {
   "cell_type": "markdown",
   "metadata": {},
   "source": [
    "## Solving Reinforcement Learning Problems - Monte Carlo Methods"
   ]
  },
  {
   "cell_type": "markdown",
   "metadata": {},
   "source": [
    "There are two main approaches in solving reinforcement learning: **model-based** and **model-free** approaches. A model-based approach assumes that we have some or full knowledge of how our environment works whereas a model-free approach relies on our agent to explore the environment without any prior knowledge. \n",
    "\n",
    "In this workshop, we will focus on model-free approaches which usually involves two steps: evalulating the state or action value function based on the agent's interactions with the environment also known as **prediction problem** and changing the agent's policy to be closer to an optimal policy also known as **control problem**.\n",
    "\n",
    "We start with the Monte Carlo Methods aka the trial-and-error-until-you-get-rich-or-broke methods."
   ]
  },
  {
   "cell_type": "markdown",
   "metadata": {},
   "source": [
    "![Monte Carlo](img/monte_carlo.jpg)"
   ]
  },
  {
   "cell_type": "markdown",
   "metadata": {},
   "source": [
    "### Prediction Problem"
   ]
  },
  {
   "cell_type": "code",
   "execution_count": 4,
   "metadata": {},
   "outputs": [
    {
     "name": "stdout",
     "output_type": "stream",
     "text": [
      "Reward Grid\n",
      "\n",
      "----------\n",
      "0 |0 |0 |\n",
      "----------\n",
      "0 |-5 |5 |\n",
      "----------\n",
      "0 |0 |0 |\n",
      "\n",
      "Policy: Reach Goal ASAP\n",
      "\n",
      "----------\n",
      "R |R |D |\n",
      "----------\n",
      "R |R |U |\n",
      "----------\n",
      "R |U |U |"
     ]
    }
   ],
   "source": [
    "#stochastic environment\n",
    "env = Gridworld(wind_p=0.2)\n",
    "\n",
    "#initial policy\n",
    "policy = {(0, 0): 3,\n",
    "          (0, 1): 3,\n",
    "          (0, 2): 2,\n",
    "          (1, 0): 3,\n",
    "          (1, 1): 3,\n",
    "          (1, 2): 0,\n",
    "          (2, 0): 3,\n",
    "          (2, 1): 0,\n",
    "          (2, 2): 0}\n",
    "\n",
    "#stochastic agent - epsilon greedy with decays\n",
    "a = GridworldAgent(env, policy = policy, gamma = 0.9, \n",
    "            start_epsilon=0.9,end_epsilon=0.3,epsilon_decay=0.9)\n",
    "\n",
    "print('Reward Grid')\n",
    "env.print_reward()\n",
    "print('\\n')\n",
    "print('Policy: Reach Goal ASAP')\n",
    "a.print_policy()"
   ]
  },
  {
   "cell_type": "markdown",
   "metadata": {},
   "source": [
    "#### Monte Carlo State Value Prediction"
   ]
  },
  {
   "cell_type": "markdown",
   "metadata": {},
   "source": [
    "![Monte Carlo State Value Prediction](img/mc_predict_v.png)"
   ]
  },
  {
   "cell_type": "code",
   "execution_count": 5,
   "metadata": {},
   "outputs": [
    {
     "name": "stdout",
     "output_type": "stream",
     "text": [
      "\n",
      "---------------\n",
      "-1.2 |0.8 |2.8 |\n",
      "---------------\n",
      "-3.6 |2.0 |0 |\n",
      "---------------\n",
      "-3.9 |-3.4 |2.5 |"
     ]
    }
   ],
   "source": [
    "a.mc_predict_v()\n",
    "a.print_v()"
   ]
  },
  {
   "cell_type": "markdown",
   "metadata": {},
   "source": [
    "#### Monte Carlo Action Value Prediction"
   ]
  },
  {
   "cell_type": "markdown",
   "metadata": {},
   "source": [
    "![Monte Carlo Action Value Prediction](img/mc_predict_q.png)"
   ]
  },
  {
   "cell_type": "code",
   "execution_count": 6,
   "metadata": {},
   "outputs": [
    {
     "name": "stdout",
     "output_type": "stream",
     "text": [
      "\n",
      "Actions: ['U' 'L' 'D' 'R']\n",
      "(2, 0) [-4.27945999 -4.6426242  -4.61743906 -3.84667845]\n",
      "(1, 0) [-1.80519107 -4.55712767 -4.64543308 -3.69798627]\n",
      "(1, 1) [-0.6984784  -4.13869325 -3.82360772  3.31915168]\n",
      "(0, 1) [-0.48133728 -2.19533552 -3.60252915  1.44325715]\n",
      "(2, 1) [-3.62305429 -4.53351496 -4.16557244  1.06611973]\n",
      "(0, 2) [ 1.58997974 -0.48889059  3.27806785  1.37156515]\n",
      "(2, 2) [ 3.31682568 -3.70868514  1.24422577  1.21949238]\n",
      "(0, 0) [-1.8066222  -1.92334208 -3.46354537 -0.44686229]\n",
      "(1, 2) [0. 0. 0. 0.]\n"
     ]
    }
   ],
   "source": [
    "a.mc_predict_q(first_visit=False)\n",
    "print(f'\\nActions: {env.action_text}')\n",
    "for i in a.q: print(i,a.q[i])"
   ]
  },
  {
   "cell_type": "markdown",
   "metadata": {},
   "source": [
    "### Control Problem"
   ]
  },
  {
   "cell_type": "code",
   "execution_count": 7,
   "metadata": {},
   "outputs": [
    {
     "name": "stdout",
     "output_type": "stream",
     "text": [
      "Reward Grid\n",
      "\n",
      "----------\n",
      "0 |0 |0 |\n",
      "----------\n",
      "0 |-5 |5 |\n",
      "----------\n",
      "0 |0 |0 |\n",
      "\n",
      "Policy: Reach Goal ASAP\n",
      "\n",
      "----------\n",
      "R |R |D |\n",
      "----------\n",
      "R |R |U |\n",
      "----------\n",
      "R |U |U |"
     ]
    }
   ],
   "source": [
    "#stochastic environment\n",
    "env = Gridworld(wind_p=0.2)\n",
    "\n",
    "#initial policy\n",
    "policy = {(0, 0): 3,\n",
    "          (0, 1): 3,\n",
    "          (0, 2): 2,\n",
    "          (1, 0): 3,\n",
    "          (1, 1): 3,\n",
    "          (1, 2): 0,\n",
    "          (2, 0): 3,\n",
    "          (2, 1): 0,\n",
    "          (2, 2): 0}\n",
    "\n",
    "#stochastic agent - epsilon greedy with decays\n",
    "a = GridworldAgent(env, policy = policy, gamma = 0.9, \n",
    "            start_epsilon=0.9,end_epsilon=0.3,epsilon_decay=0.9)\n",
    "\n",
    "print('Reward Grid')\n",
    "env.print_reward()\n",
    "print('\\n')\n",
    "print('Policy: Reach Goal ASAP')\n",
    "a.print_policy()"
   ]
  },
  {
   "cell_type": "markdown",
   "metadata": {},
   "source": [
    "### All-visit Monte Carlo"
   ]
  },
  {
   "cell_type": "markdown",
   "metadata": {},
   "source": [
    "**Coding Assignment** Implement `mc_control_q` function of `agent.py` using either all-visit or first-visit Monte Carlo."
   ]
  },
  {
   "cell_type": "code",
   "execution_count": 8,
   "metadata": {},
   "outputs": [
    {
     "name": "stdout",
     "output_type": "stream",
     "text": [
      "\n",
      "----------\n",
      "R |R |D |\n",
      "----------\n",
      "U |R |U |\n",
      "----------\n",
      "R |R |U |\n",
      "Actions: ['U' 'L' 'D' 'R']\n",
      "(2, 0) [-4.42542673 -4.47945424 -4.96856101 -3.83328205]\n",
      "(2, 1) [-3.71362126 -4.60951413 -3.74927154  0.60503252]\n",
      "(2, 2) [ 3.30503944 -4.48875665  1.9600145  -0.5514421 ]\n",
      "(1, 1) [-0.3975418  -4.66350337 -3.90694783  3.30577735]\n",
      "(1, 0) [-2.47231007 -6.12862609 -4.24574936 -3.90817076]\n",
      "(0, 1) [-1.58418182e-03 -1.47717932e+00 -5.39762380e+00  1.57492868e+00]\n",
      "(0, 2) [ 1.08329745 -1.38704065  3.41271362  0.95096   ]\n",
      "(0, 0) [-2.66507277 -3.9394442  -6.079117   -1.28748741]\n",
      "(1, 2) [0. 0. 0. 0.]\n"
     ]
    }
   ],
   "source": [
    "#reset\n",
    "a.policy = policy\n",
    "a.q = defaultdict(lambda: np.zeros(a.n_action))\n",
    "a.n_q = defaultdict(lambda: np.zeros(a.n_action))\n",
    "\n",
    "a.mc_control_q(n_episode = 1000,first_visit=False)\n",
    "a.print_policy()\n",
    "print(f'\\nActions: {env.action_text}')\n",
    "for i in a.q: print(i,a.q[i])"
   ]
  },
  {
   "cell_type": "markdown",
   "metadata": {},
   "source": [
    "#### First-visit Monte Carlo"
   ]
  },
  {
   "cell_type": "code",
   "execution_count": 9,
   "metadata": {},
   "outputs": [
    {
     "name": "stdout",
     "output_type": "stream",
     "text": [
      "\n",
      "----------\n",
      "R |R |D |\n",
      "----------\n",
      "D |R |U |\n",
      "----------\n",
      "R |R |U |\n",
      "Actions: ['U' 'L' 'D' 'R']\n",
      "(2, 0) [-2.43309971 -1.74925805 -1.53901673 -0.55055766]\n",
      "(2, 1) [-3.03968978 -1.79147033 -0.32667539  1.48590312]\n",
      "(1, 1) [-0.37956211 -1.95397097 -0.03600181  2.9814032 ]\n",
      "(1, 0) [-1.59538693 -2.50784238 -0.898435   -4.03042833]\n",
      "(2, 2) [ 3.37561369 -1.18148985  1.25791886  1.75502656]\n",
      "(0, 0) [-2.48601718 -1.54522598 -3.20786409 -0.27791786]\n",
      "(0, 2) [ 1.6016075  -0.0454231   3.46291667  1.76135   ]\n",
      "(0, 1) [-0.27251285 -2.15225689 -3.01662     1.5304814 ]\n",
      "(1, 2) [0. 0. 0. 0.]\n"
     ]
    }
   ],
   "source": [
    "#reset\n",
    "a.policy = policy\n",
    "a.q = defaultdict(lambda: np.zeros(a.n_action))\n",
    "a.n_q = defaultdict(lambda: np.zeros(a.n_action))\n",
    "\n",
    "a.mc_control_q(n_episode = 1000,first_visit=True)\n",
    "a.print_policy()\n",
    "print(f'\\nActions: {env.action_text}')\n",
    "for i in a.q: print(i,a.q[i])"
   ]
  },
  {
   "cell_type": "markdown",
   "metadata": {},
   "source": [
    "#### Greedy within The Limit of Exploration "
   ]
  },
  {
   "cell_type": "markdown",
   "metadata": {},
   "source": [
    "![Greedy within The Limit of Exploration](img/mc_control_glie.png)"
   ]
  },
  {
   "cell_type": "markdown",
   "metadata": {},
   "source": [
    "**Coding Assignment** Implement `mc_control_glie` function of `agent.py`"
   ]
  },
  {
   "cell_type": "code",
   "execution_count": 10,
   "metadata": {},
   "outputs": [
    {
     "name": "stdout",
     "output_type": "stream",
     "text": [
      "\n",
      "----------\n",
      "R |R |D |\n",
      "----------\n",
      "D |R |U |\n",
      "----------\n",
      "R |R |U |\n",
      "Actions: ['U' 'L' 'D' 'R']\n",
      "(2, 0) [-3.3134489  -2.67478023 -2.1137735  -0.49593229]\n",
      "(0, 0) [ -3.86583878 -10.08194964  -5.95308958  -0.82373368]\n",
      "(0, 1) [-2.36453588 -1.89078656 -4.27948146  1.39288345]\n",
      "(0, 2) [ 1.464686   -0.79093121  3.39272518  1.82825   ]\n",
      "(1, 0) [-3.01087594 -2.94596132 -2.12747573 -6.28092154]\n",
      "(1, 1) [-0.47948514 -3.53229022 -2.19359228  3.14234656]\n",
      "(1, 2) [0. 0. 0. 0.]\n",
      "(2, 1) [-3.06808843 -1.97433774 -0.18890794  1.5132909 ]\n",
      "(2, 2) [ 3.30062164 -0.79716753  1.69313086  1.44001816]\n"
     ]
    }
   ],
   "source": [
    "#reset\n",
    "a.policy = policy\n",
    "a.q = defaultdict(lambda: np.zeros(a.n_action))\n",
    "a.n_q = defaultdict(lambda: np.zeros(a.n_action))\n",
    "\n",
    "a.mc_control_glie(n_episode = 1000)\n",
    "a.print_policy()\n",
    "print(f'\\nActions: {env.action_text}')\n",
    "for i in a.q: print(i,a.q[i])"
   ]
  },
  {
   "cell_type": "markdown",
   "metadata": {},
   "source": [
    "#### GLIE with Constant Learning Rate"
   ]
  },
  {
   "cell_type": "markdown",
   "metadata": {},
   "source": [
    "![GLIE with constant learning rate](img/mc_control_glie_constant.png)"
   ]
  },
  {
   "cell_type": "code",
   "execution_count": 11,
   "metadata": {},
   "outputs": [
    {
     "name": "stdout",
     "output_type": "stream",
     "text": [
      "\n",
      "----------\n",
      "R |R |D |\n",
      "----------\n",
      "D |R |U |\n",
      "----------\n",
      "R |R |U |\n",
      "Actions: ['U' 'L' 'D' 'R']\n",
      "(2, 0) [-2.81750386 -2.74814452 -2.49249333 -1.06695963]\n",
      "(0, 0) [-2.60372804 -2.60435885 -2.71952252 -0.90359939]\n",
      "(0, 1) [-2.20346185 -1.64821088 -1.77704951  0.88879714]\n",
      "(0, 2) [ 0.66803909 -0.36253117  3.23068326  0.21412206]\n",
      "(1, 0) [-3.33687023 -3.23160784 -1.68694516 -5.1361141 ]\n",
      "(1, 1) [-1.29011076 -2.06865674  0.23615334  3.60073613]\n",
      "(1, 2) [0. 0. 0. 0.]\n",
      "(2, 1) [-2.92641498 -1.39443037 -1.57252958  1.54730252]\n",
      "(2, 2) [ 3.14731041 -1.10108852  0.84096201  1.27417214]\n"
     ]
    }
   ],
   "source": [
    "#reset\n",
    "a.policy = policy\n",
    "a.q = defaultdict(lambda: np.zeros(a.n_action))\n",
    "a.n_q = defaultdict(lambda: np.zeros(a.n_action))\n",
    "\n",
    "a.mc_control_glie(n_episode = 1000, lr=0.1)\n",
    "a.print_policy()\n",
    "print(f'\\nActions: {env.action_text}')\n",
    "for i in a.q: print(i,a.q[i])"
   ]
  },
  {
   "cell_type": "code",
   "execution_count": null,
   "metadata": {},
   "outputs": [],
   "source": []
  }
 ],
 "metadata": {
  "kernelspec": {
   "display_name": "Python 3",
   "language": "python",
   "name": "python3"
  },
  "language_info": {
   "codemirror_mode": {
    "name": "ipython",
    "version": 3
   },
   "file_extension": ".py",
   "mimetype": "text/x-python",
   "name": "python",
   "nbconvert_exporter": "python",
   "pygments_lexer": "ipython3",
   "version": "3.6.6"
  }
 },
 "nbformat": 4,
 "nbformat_minor": 2
}
