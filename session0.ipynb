{
 "cells": [
  {
   "cell_type": "markdown",
   "metadata": {},
   "source": [
    "# Bangkok School of AI"
   ]
  },
  {
   "cell_type": "markdown",
   "metadata": {},
   "source": [
    "## What is [School of AI](https://www.theschool.ai/)"
   ]
  },
  {
   "cell_type": "code",
   "execution_count": 2,
   "metadata": {},
   "outputs": [
    {
     "data": {
      "text/html": [
       "<iframe width=\"560\" height=\"315\" src=\"https://www.youtube.com/embed/8yu8rtXThy8\" frameborder=\"0\" allow=\"autoplay; encrypted-media\" allowfullscreen></iframe>"
      ],
      "text/plain": [
       "<IPython.core.display.HTML object>"
      ]
     },
     "metadata": {},
     "output_type": "display_data"
    }
   ],
   "source": [
    "%%HTML\n",
    "<iframe width=\"560\" height=\"315\" src=\"https://www.youtube.com/embed/8yu8rtXThy8\" frameborder=\"0\" allow=\"autoplay; encrypted-media\" allowfullscreen></iframe>"
   ]
  },
  {
   "cell_type": "markdown",
   "metadata": {},
   "source": [
    "Our mission is to offer a world-class AI education to anyone on Earth for free.\n",
    "Our doors are open to all those who wish to learn. We are a learning community that spans almost every country dedicated to teaching our students how to make a positive impact in the world using AI technology, whether that’s through employment or entrepreneurship."
   ]
  },
  {
   "cell_type": "markdown",
   "metadata": {},
   "source": [
    "## What Are We Doing in Bangkok"
   ]
  },
  {
   "cell_type": "markdown",
   "metadata": {},
   "source": [
    "[Bangkok School of AI](https://www.meetup.com/Bangkok-School-of-AI/) is built on top of the [Data Science BKK](https://www.facebook.com/groups/dsbkkgroup/) community. We welcome constructive discussions both in the Facebook group and the Meetup page.\n",
    "\n",
    "![dsbkk_soai](img/dsbkk_soai.png)\n",
    "\n",
    "Our activities include:\n",
    "* Usual DS:BKK meetups every 2 months\n",
    "* Reinforcement learning workshops every 2 weeks"
   ]
  },
  {
   "cell_type": "markdown",
   "metadata": {},
   "source": [
    "## How You Can Contribute"
   ]
  },
  {
   "cell_type": "markdown",
   "metadata": {},
   "source": [
    "* Venue and speakers for meetups\n",
    "* Send in [Google Colabs](http://colab.research.google.com) and git repo for lessons you want to share\n",
    "* Write a blog / make a video about what you learned from the meetups and workshops\n",
    "* Pull requests to update our resources"
   ]
  },
  {
   "cell_type": "markdown",
   "metadata": {},
   "source": [
    "## Resources"
   ]
  },
  {
   "cell_type": "markdown",
   "metadata": {},
   "source": [
    "* [SoAI Courses](https://www.theschool.ai/)\n",
    "* [awesome-datasets](https://github.com/Datatouille/awesome-datasets)\n",
    "* [awesome-cheatsheets](https://github.com/Datatouille/awesome-cheatsheets)\n",
    "* [RL Workshop](https://github.com/Datatouille/rl-workshop)\n",
    "* [Meetup archive](https://www.datatouille.org/blog/2018/5/17/data-science-bkk-meetup-decks)"
   ]
  }
 ],
 "metadata": {
  "kernelspec": {
   "display_name": "drlnd",
   "language": "python",
   "name": "drlnd"
  },
  "language_info": {
   "codemirror_mode": {
    "name": "ipython",
    "version": 3
   },
   "file_extension": ".py",
   "mimetype": "text/x-python",
   "name": "python",
   "nbconvert_exporter": "python",
   "pygments_lexer": "ipython3",
   "version": "3.6.6"
  }
 },
 "nbformat": 4,
 "nbformat_minor": 2
}
