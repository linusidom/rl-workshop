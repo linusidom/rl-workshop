{
 "cells": [
  {
   "cell_type": "markdown",
   "metadata": {},
   "source": [
    "# Session 4: Policy-gradient Pong"
   ]
  },
  {
   "cell_type": "markdown",
   "metadata": {},
   "source": [
    "## Setups"
   ]
  },
  {
   "cell_type": "code",
   "execution_count": 84,
   "metadata": {},
   "outputs": [],
   "source": [
    "# #uncomment only if you're running from google colab\n",
    "# !git clone https://github.com/Datatouille/rl-workshop\n",
    "# !mv rl-workshop/* .\n",
    "# !ls\n",
    "# !pip install gym[atari] #For full installations, see https://github.com/openai/gym#installation\n",
    "# !pip install numpy torchvision_nightly\n",
    "# !pip install torch_nightly -f https://download.pytorch.org/whl/nightly/cu92/torch_nightly.html\n",
    "# import torch\n",
    "# torch.__version__"
   ]
  },
  {
   "cell_type": "markdown",
   "metadata": {},
   "source": [
    "## Imports"
   ]
  },
  {
   "cell_type": "code",
   "execution_count": 1,
   "metadata": {},
   "outputs": [],
   "source": [
    "%matplotlib inline\n",
    "\n",
    "#environments\n",
    "import gym\n",
    "from solutions.environments import Gridworld\n",
    "\n",
    "#torch\n",
    "import torch\n",
    "import torch.nn as nn\n",
    "import torch.nn.functional as F\n",
    "from torch import optim\n",
    "from torch.distributions import Categorical\n",
    "#use cuda 0 if available; assuming 1 gpu\n",
    "device = torch.device(\"cuda:0\" if torch.cuda.is_available() else \"cpu\")\n",
    "\n",
    "#misc\n",
    "import numpy as np\n",
    "import matplotlib.pyplot as plt\n",
    "from tqdm import trange\n",
    "from datetime import datetime\n",
    "from collections import Counter\n",
    "import warnings\n",
    "warnings.filterwarnings(\"ignore\")\n",
    "\n",
    "MODEL_PATH = 'models/'"
   ]
  },
  {
   "cell_type": "markdown",
   "metadata": {},
   "source": [
    "## Recap: Reinforcement Learning with Discrete States and Actions"
   ]
  },
  {
   "cell_type": "markdown",
   "metadata": {},
   "source": [
    "Environments we have solved so far:\n",
    "* Gridworld\n",
    "* Blackjack-v0\n",
    "* Taxi-v2\n",
    "\n",
    "**Coding Assignment** What do they have in common? Find out what are the states and actions of each environment above."
   ]
  },
  {
   "cell_type": "code",
   "execution_count": 8,
   "metadata": {},
   "outputs": [
    {
     "data": {
      "text/plain": [
       "([(0, 0), (0, 1), (0, 2), (1, 0), (1, 1), (1, 2), (2, 0), (2, 1), (2, 2)],\n",
       " Tuple(Discrete(32), Discrete(11), Discrete(2)),\n",
       " Discrete(500))"
      ]
     },
     "execution_count": 8,
     "metadata": {},
     "output_type": "execute_result"
    }
   ],
   "source": [
    "#create environments\n",
    "gridworld_env = Gridworld()\n",
    "bj_env = gym.make('Blackjack-v0')\n",
    "taxi_env = gym.make('Taxi-v2')\n",
    "\n",
    "'''\n",
    "Write your code here\n",
    "'''\n",
    "\n",
    "gridworld_env.state_space, bj_env.observation_space, taxi_env.observation_space"
   ]
  },
  {
   "cell_type": "markdown",
   "metadata": {},
   "source": [
    "**Hints** \n",
    "* `env.reset()` returns the initial state of an environment.\n",
    "* `env.action_space` returns the action space of the environment.\n",
    "* `env.observation_space` or `env.state_space` returns the state space of the environment."
   ]
  },
  {
   "cell_type": "markdown",
   "metadata": {},
   "source": [
    "## What Got You Here Will Not Take You There"
   ]
  },
  {
   "cell_type": "markdown",
   "metadata": {},
   "source": [
    "So far our methods of finding the optimal policy has been:\n",
    "\n",
    "1. Predict the action values given a state using either **a sample of transitions (Monte Carlo)** or **previous action values (Temporal Difference)**.\n",
    "2. Store those values in a dictionary `Q[state][action]`\n",
    "3. To perform an optimal action, choose the action index which gives the highest action value in the dictionary.\n",
    "\n",
    "But what if we have infinitely many states?"
   ]
  },
  {
   "cell_type": "markdown",
   "metadata": {},
   "source": [
    "## [Pong-v0](https://github.com/openai/gym/blob/master/gym/envs/atari/atari_env.py)"
   ]
  },
  {
   "cell_type": "markdown",
   "metadata": {},
   "source": [
    "One of the most influential articles on deep reinforcement is Andrej Karpathy's [Deep Reinforcement Learning: Pong from Pixels](https://karpathy.github.io/2016/05/31/rl/), where he details how to train an agent that learns to play Atari Pong from raw pixels using a technique called **policy gradient**. This session will borrow heavily from this article as well as [a lecture by David Silver](http://www0.cs.ucl.ac.uk/staff/D.Silver/web/Teaching_files/pg.pdf).\n",
    "\n",
    "If you are too young to be familiar with Pong, try it [here](http://www.pongonline.net/)."
   ]
  },
  {
   "cell_type": "code",
   "execution_count": 87,
   "metadata": {},
   "outputs": [
    {
     "data": {
      "text/html": [
       "<iframe width=\"560\" height=\"315\" src=\"https://www.youtube.com/embed/YOW8m2YGtRg\" frameborder=\"0\" allow=\"accelerometer; autoplay; encrypted-media; gyroscope; picture-in-picture\" allowfullscreen></iframe>"
      ],
      "text/plain": [
       "<IPython.core.display.HTML object>"
      ]
     },
     "metadata": {},
     "output_type": "display_data"
    }
   ],
   "source": [
    "%%HTML\n",
    "<iframe width=\"560\" height=\"315\" src=\"https://www.youtube.com/embed/YOW8m2YGtRg\" frameborder=\"0\" allow=\"accelerometer; autoplay; encrypted-media; gyroscope; picture-in-picture\" allowfullscreen></iframe>"
   ]
  },
  {
   "cell_type": "markdown",
   "metadata": {},
   "source": [
    "**Coding Assignment** Before we dive in, let us do some warm-up exercises of finding out more about `PongDeterministic-v0`\n",
    "\n",
    "* State space\n",
    "* Action space\n",
    "* Rewards\n",
    "* How many episodes on average with random actions\n",
    "* Render one frame and see how it looks like"
   ]
  },
  {
   "cell_type": "code",
   "execution_count": 36,
   "metadata": {},
   "outputs": [
    {
     "name": "stdout",
     "output_type": "stream",
     "text": [
      "Each action index means: ['NOOP', 'FIRE', 'RIGHT', 'LEFT', 'RIGHTFIRE', 'LEFTFIRE']\n"
     ]
    }
   ],
   "source": [
    "#create environment\n",
    "env = gym.make('Pong-v0')\n",
    "env.reset()\n",
    "print(f'Each action index means: {env.unwrapped.get_action_meanings()}')\n",
    "\n",
    "'''\n",
    "Write your code here\n",
    "'''\n"
   ]
  },
  {
   "cell_type": "markdown",
   "metadata": {},
   "source": [
    "## Monte Carlo Policy Gradient aka Vanilla Policy Gradient aka REINFORCE aka Stochastic Policy Gradient"
   ]
  },
  {
   "cell_type": "markdown",
   "metadata": {},
   "source": [
    "The gist of it is that instead of using the three steps we have done so far, we do:\n",
    "\n",
    "1. Get rid of the Q dictionary altogether.\n",
    "2. Use a neural network called **policy network** that takes the input of state (pixels) and outputs which action to take as our policy.\n",
    "3. Get **a sample of transitions and discounted rewards** based on that neural network.\n",
    "4. Optimize the policy network to maximize the **expected discounted rewards** using **gradient ascent**.\n",
    "\n",
    "<img src=\"img/pong_pg.png\" alt=\"Pong Policy Gradient\"/>"
   ]
  },
  {
   "cell_type": "markdown",
   "metadata": {},
   "source": [
    "### Preprocess Input"
   ]
  },
  {
   "cell_type": "markdown",
   "metadata": {},
   "source": [
    "Instead of taking the entire height (210) * width (160) * color channels (3) = 100,800 pixels for input, we prepocess to a black-and-white 80 * 80 image."
   ]
  },
  {
   "cell_type": "code",
   "execution_count": 46,
   "metadata": {},
   "outputs": [
    {
     "name": "stdout",
     "output_type": "stream",
     "text": [
      "(210, 160, 3)\n"
     ]
    },
    {
     "data": {
      "text/plain": [
       "<matplotlib.image.AxesImage at 0x7fde524e87f0>"
      ]
     },
     "execution_count": 46,
     "metadata": {},
     "output_type": "execute_result"
    },
    {
     "data": {
      "image/png": "[encoded data removed]",
      "text/plain": [
       "<Figure size 432x288 with 1 Axes>"
      ]
     },
     "metadata": {},
     "output_type": "display_data"
    }
   ],
   "source": [
    "env.reset()\n",
    "for i in range(50): \n",
    "    action = np.random.choice([2,3])\n",
    "    state, reward, done, info = env.step(action)\n",
    "pre_img = state\n",
    "print(pre_img.shape)\n",
    "plt.imshow(pre_img)"
   ]
  },
  {
   "cell_type": "code",
   "execution_count": 47,
   "metadata": {},
   "outputs": [],
   "source": [
    "#adapted from https://gist.github.com/karpathy/a4166c7fe253700972fcbc77e4ea32c5\n",
    "def preprocess_state(I):\n",
    "    I = I[35:195] # crop\n",
    "    I = I[::2,::2,0] # downsample by factor of 2\n",
    "    I[I == 144] = 0 # erase background (background type 1)\n",
    "    I[I == 109] = 0 # erase background (background type 2)\n",
    "    I[I != 0] = 1 # everything else (paddles, ball) just set to 1\n",
    "    res = I.astype(np.float).reshape(-1)\n",
    "    return(res)"
   ]
  },
  {
   "cell_type": "code",
   "execution_count": 48,
   "metadata": {},
   "outputs": [
    {
     "name": "stdout",
     "output_type": "stream",
     "text": [
      "(6400,)\n"
     ]
    },
    {
     "data": {
      "text/plain": [
       "<matplotlib.image.AxesImage at 0x7fde4fbd19b0>"
      ]
     },
     "execution_count": 48,
     "metadata": {},
     "output_type": "execute_result"
    },
    {
     "data": {
      "image/png": "[encoded data removed]",
      "text/plain": [
       "<Figure size 432x288 with 1 Axes>"
      ]
     },
     "metadata": {},
     "output_type": "display_data"
    }
   ],
   "source": [
    "post_img = preprocess_state(pre_img)\n",
    "print(post_img.shape)\n",
    "plt.imshow(post_img.reshape(80,80), 'gray')"
   ]
  },
  {
   "cell_type": "markdown",
   "metadata": {},
   "source": [
    "### Policy Network"
   ]
  },
  {
   "cell_type": "markdown",
   "metadata": {},
   "source": [
    "We use a policy network that takes an input of state and output the probability of taking an action directly. That is, we are not estimating the action value function $Q(s,a)$ but directly the policy function $\\pi(a|s)$."
   ]
  },
  {
   "cell_type": "code",
   "execution_count": 96,
   "metadata": {},
   "outputs": [],
   "source": [
    "class PolicyNet(nn.Module):\n",
    "    \n",
    "    def __init__(self, input_size, hidden_size, output_size):\n",
    "        super(PolicyNet, self).__init__()\n",
    "        self.fc1 = nn.Linear(input_size,hidden_size)\n",
    "        self.fc2 = nn.Linear(hidden_size,output_size)\n",
    "        \n",
    "    def forward(self,x):\n",
    "        x = F.relu(self.fc1(x))\n",
    "        x = F.softmax(self.fc2(x),1)\n",
    "        return(x)\n",
    "    \n",
    "    def act(self, state):\n",
    "        state = torch.from_numpy(state).float().unsqueeze(0).to(device)\n",
    "        #get probability\n",
    "        probs = self.forward(state).cpu()\n",
    "        #create a discrete distribution based on our probability\n",
    "        m = Categorical(probs)\n",
    "        #sample action\n",
    "        action = m.sample()\n",
    "        return(action.item(), m.log_prob(action))\n",
    "    \n",
    "#initiate random policy\n",
    "policy = PolicyNet(6400,1000,2)\n",
    "optimizer = optim.Adam(policy.parameters(), lr=1e-4)"
   ]
  },
  {
   "cell_type": "code",
   "execution_count": 80,
   "metadata": {},
   "outputs": [
    {
     "data": {
      "text/plain": [
       "(6400,)"
      ]
     },
     "execution_count": 80,
     "metadata": {},
     "output_type": "execute_result"
    }
   ],
   "source": [
    "env = gym.make('Pong-v0')\n",
    "state = env.reset()\n",
    "x = preprocess_state(state)\n",
    "x.shape"
   ]
  },
  {
   "cell_type": "code",
   "execution_count": 81,
   "metadata": {},
   "outputs": [
    {
     "data": {
      "text/plain": [
       "(0, tensor([-0.7062], grad_fn=<SqueezeBackward1>))"
      ]
     },
     "execution_count": 81,
     "metadata": {},
     "output_type": "execute_result"
    }
   ],
   "source": [
    "#policy\n",
    "action_idx,log_prob = policy.act(x)\n",
    "action_idx, log_prob"
   ]
  },
  {
   "cell_type": "markdown",
   "metadata": {},
   "source": [
    "**Coding Assignment** Use the randomly initiated policy network to play the game for 30 episodes. \n",
    "* What is the average reward across all episodes?\n",
    "* How many times the agent chose to go left or right?\n",
    "\n",
    "Note that in line with [Karpathy's implementation](https://gist.github.com/karpathy/a4166c7fe253700972fcbc77e4ea32c5), we will be using the difference of frames as our state."
   ]
  },
  {
   "cell_type": "code",
   "execution_count": 99,
   "metadata": {},
   "outputs": [
    {
     "name": "stdout",
     "output_type": "stream",
     "text": [
      "-21.0\n",
      "Counter({1: 15765, 0: 14833})\n"
     ]
    },
    {
     "data": {
      "image/png": "[encoded data removed]",
      "text/plain": [
       "<Figure size 432x288 with 1 Axes>"
      ]
     },
     "metadata": {},
     "output_type": "display_data"
    }
   ],
   "source": [
    "scores = []\n",
    "actions = []\n",
    "ts = []\n",
    "\n",
    "for i in range(30):\n",
    "    #initial state\n",
    "    state = preprocess_state(env.reset())\n",
    "    previous_state = None\n",
    "    \n",
    "    score = 0\n",
    "    t = 0\n",
    "    while True:\n",
    "        t+=1\n",
    "        #get input state as difference between two states\n",
    "        current_state = state\n",
    "        input_state = current_state - previous_state if previous_state is not None else np.zeros(80*80)\n",
    "        previous_state = current_state\n",
    "\n",
    "        '''\n",
    "        Write codes to get probability and choose action here\n",
    "        '''\n",
    "        action = policy.act(input_state)[0]\n",
    "        \n",
    "        #record action\n",
    "        actions.append(action)\n",
    "        #environment step\n",
    "        state, reward, done, info = env.step(action)\n",
    "        #record score\n",
    "        score+=reward\n",
    "        #preprocess new state\n",
    "        state = preprocess_state(state)\n",
    "        if done: break\n",
    "    #append scores\n",
    "    scores.append(score)\n",
    "    ts.append(t)\n",
    "    \n",
    "plt.hist(scores)\n",
    "print(np.mean(scores))\n",
    "print(Counter(actions))"
   ]
  },
  {
   "cell_type": "code",
   "execution_count": 104,
   "metadata": {},
   "outputs": [
    {
     "data": {
      "text/plain": [
       "(array([2., 1., 6., 2., 8., 2., 3., 3., 2., 1.]),\n",
       " array([1006. , 1008.9, 1011.8, 1014.7, 1017.6, 1020.5, 1023.4, 1026.3,\n",
       "        1029.2, 1032.1, 1035. ]),\n",
       " <a list of 10 Patch objects>)"
      ]
     },
     "execution_count": 104,
     "metadata": {},
     "output_type": "execute_result"
    },
    {
     "data": {
      "image/png": "[encoded data removed]",
      "text/plain": [
       "<Figure size 432x288 with 1 Axes>"
      ]
     },
     "metadata": {},
     "output_type": "display_data"
    }
   ],
   "source": [
    "plt.hist(ts)"
   ]
  },
  {
   "cell_type": "markdown",
   "metadata": {},
   "source": [
    "### Trajectories"
   ]
  },
  {
   "cell_type": "markdown",
   "metadata": {},
   "source": [
    "With Monte Carlo methods, we collect all state-action pairs in an episode then update the Q dictionary once the episode ends. It is not very efficient since we always have to wait for the end of the episode. Here instead we will come up with an arbitrary number of timesteps and treat it as though it is an episode, calling it **trajectory** without having to wait for the `done` flag."
   ]
  },
  {
   "cell_type": "code",
   "execution_count": 106,
   "metadata": {},
   "outputs": [],
   "source": [
    "#for a single episode\n",
    "def get_trajectory(policy, env, t_max=300, preprocess=True, diff_state=True, action_list=[2,3]):\n",
    "    trajectories = []\n",
    "\n",
    "    #initialize state\n",
    "    if preprocess:\n",
    "        state = preprocess_state(env.reset())\n",
    "    else:\n",
    "        state = env.reset()\n",
    "    previous_state = np.zeros_like(state)\n",
    "\n",
    "    #each trajectory\n",
    "    states= []\n",
    "    action_idxs = []\n",
    "    rewards = []\n",
    "    logprobs = []\n",
    "\n",
    "    for t in range(t_max):\n",
    "        #get input state as difference between two states\n",
    "        current_state = state\n",
    "        input_state = current_state - previous_state if diff_state else current_state\n",
    "        previous_state = current_state\n",
    "\n",
    "        #get action and log prob\n",
    "        action_idx,log_prob = policy.act(input_state)\n",
    "        action = action_list[action_idx]\n",
    "\n",
    "        #environment step\n",
    "        state, reward, done, info = env.step(action)\n",
    "\n",
    "        #append trajectories\n",
    "        logprobs.append(log_prob)\n",
    "        states.append(input_state)\n",
    "        action_idxs.append(action_idx)\n",
    "        rewards.append(reward)\n",
    "\n",
    "        #preprocess next state\n",
    "        if preprocess: state = preprocess_state(state)\n",
    "\n",
    "        #break if done\n",
    "        if done: break\n",
    "                \n",
    "    trajectory = (torch.cat(logprobs), states, action_idxs, rewards)\n",
    "    return(trajectory)"
   ]
  },
  {
   "cell_type": "code",
   "execution_count": 119,
   "metadata": {},
   "outputs": [
    {
     "data": {
      "text/plain": [
       "4"
      ]
     },
     "execution_count": 119,
     "metadata": {},
     "output_type": "execute_result"
    }
   ],
   "source": [
    "trajectory = get_trajectory(policy, env, t_max=5)\n",
    "len(trajectory)"
   ]
  },
  {
   "cell_type": "code",
   "execution_count": 120,
   "metadata": {},
   "outputs": [
    {
     "data": {
      "text/plain": [
       "[0.0, 0.0, 0.0, 0.0, 0.0]"
      ]
     },
     "execution_count": 120,
     "metadata": {},
     "output_type": "execute_result"
    }
   ],
   "source": [
    "#see what's in the trajectory: logprobs, states, action_idxs, rewards\n",
    "trajectory[3]"
   ]
  },
  {
   "cell_type": "markdown",
   "metadata": {},
   "source": [
    "### Gradient Ascent"
   ]
  },
  {
   "cell_type": "markdown",
   "metadata": {},
   "source": [
    "The last and most important step is to optimize the policy network so that given a state, it will be more likely to perform an action that would maximize the **expected discounted rewards** $U(\\theta)$ also called **surrogate function**:\n",
    "\n",
    "$$U(\\theta) = \\sum_{\\tau} P(\\tau;\\theta) R(\\tau) = \\frac{1}{m}\\sum_{i=1}^{m} \\sum_{t=0}^{H}log\\pi_{\\theta}(a^i_t|s^i_t)R(\\tau^i) = \\frac{1}{m}\\sum_{i=1}^{m} \\sum_{t=0}^{H}log\\pi_{\\theta}(a^i_t|s^i_t)R(\\tau^i)$$\n",
    "\n",
    "where\n",
    "* $\\tau$ is a trajectory\n",
    "* $\\theta$ is a set of parameters for the policy network\n",
    "* $P(\\tau; \\theta)$ is the probability of trajectory $\\tau$ given parameters $\\theta$\n",
    "* $R(\\tau)$ is the discounted rewards of trajectory $\\tau$\n",
    "* $i$ denotes a trajectory\n",
    "* $t$ denotes a timestep within a trajectory\n",
    "\n",
    "What we actually need to code up, \n",
    "* `get_trajectories` function to collect some trajectories with some number of timesteps, say 300 since it's about half the game.\n",
    "* For each trajectory we have, find the sum of \n",
    "\n",
    "$$log(probability_{action}) * rewards_{discounted}$$\n",
    "\n",
    "* `surrogate` function to estimate the surrogate function\n",
    "* Perform gradient ascent treating surrogate function as our \"loss\" to update the policy network."
   ]
  },
  {
   "cell_type": "code",
   "execution_count": 121,
   "metadata": {},
   "outputs": [],
   "source": [
    "def surrogate(trajectory, gamma = 0.995):\n",
    "    #expand trajectories\n",
    "    logprobs,states,action_idxs,rewards = trajectory\n",
    "\n",
    "    #get discounted rewards\n",
    "    discounts = [gamma**i for i in range(len(rewards)+1)]\n",
    "    discounted_rewards = sum([a*b for a,b in zip(discounts, rewards)])\n",
    "    \n",
    "    loss = -(logprobs * discounted_rewards)\n",
    "    return(loss.sum())"
   ]
  },
  {
   "cell_type": "code",
   "execution_count": 122,
   "metadata": {},
   "outputs": [
    {
     "data": {
      "text/plain": [
       "tensor(-461.4699, grad_fn=<SumBackward0>)"
      ]
     },
     "execution_count": 122,
     "metadata": {},
     "output_type": "execute_result"
    }
   ],
   "source": [
    "trajectory = get_trajectory(policy,env,t_max=300)\n",
    "L = surrogate(trajectory)\n",
    "L"
   ]
  },
  {
   "cell_type": "markdown",
   "metadata": {},
   "source": [
    "### Training"
   ]
  },
  {
   "cell_type": "code",
   "execution_count": 124,
   "metadata": {},
   "outputs": [],
   "source": [
    "torch.manual_seed(0)\n",
    "env = gym.make('Pong-v0')\n",
    "policy = PolicyNet(6400,512,2)\n",
    "optimizer = optim.Adam(policy.parameters(), lr=1e-3)"
   ]
  },
  {
   "cell_type": "code",
   "execution_count": 126,
   "metadata": {},
   "outputs": [],
   "source": [
    "# keep track of progress\n",
    "scores = []\n",
    "last_hundreds = []\n",
    "\n",
    "for e in trange(1000):\n",
    "    # collect trajectories\n",
    "    trajectory = get_trajectory(policy,env,t_max=300,preprocess=True,diff_state=True,action_list=[2,3])\n",
    "    logprobs, states, actions, rewards = trajectory\n",
    "    \n",
    "    loss = surrogate(trajectory,gamma=0.995)\n",
    "    \n",
    "    #run optimizer\n",
    "    optimizer.zero_grad()\n",
    "    loss.backward()\n",
    "    optimizer.step()\n",
    "    \n",
    "    #record score\n",
    "    last_hundred = np.mean(scores[-100:]) if len(scores) > 0 else 0\n",
    "    last_hundred = np.mean(scores[-100:])\n",
    "    scores.append(np.sum(rewards))\n",
    "    last_hundreds.append(last_hundred)\n",
    "    \n",
    "    #print\n",
    "    if (e+1) % 100 ==0: \n",
    "        print(f'Episod {e+1}: Moving avg {last_hundred}; Surrogate {loss}')"
   ]
  },
  {
   "cell_type": "code",
   "execution_count": 127,
   "metadata": {},
   "outputs": [
    {
     "data": {
      "text/plain": [
       "[<matplotlib.lines.Line2D at 0x7fde47ad8320>]"
      ]
     },
     "execution_count": 127,
     "metadata": {},
     "output_type": "execute_result"
    },
    {
     "data": {
      "image/png": "[encoded data removed]",
      "text/plain": [
       "<Figure size 432x288 with 1 Axes>"
      ]
     },
     "metadata": {},
     "output_type": "display_data"
    }
   ],
   "source": [
    "plt.plot(scores)\n",
    "plt.plot(last_hundreds)"
   ]
  },
  {
   "cell_type": "markdown",
   "metadata": {},
   "source": [
    "### Training CartPole"
   ]
  },
  {
   "cell_type": "code",
   "execution_count": 129,
   "metadata": {},
   "outputs": [
    {
     "name": "stdout",
     "output_type": "stream",
     "text": [
      "\u001b[33mWARN: gym.spaces.Box autodetected dtype as <class 'numpy.float32'>. Please provide explicit dtype.\u001b[0m\n"
     ]
    }
   ],
   "source": [
    "torch.manual_seed(0)\n",
    "env = gym.make('CartPole-v0')\n",
    "policy = PolicyNet(4,16,2)\n",
    "optimizer = optim.Adam(policy.parameters(), lr=1e-2)"
   ]
  },
  {
   "cell_type": "code",
   "execution_count": 130,
   "metadata": {},
   "outputs": [
    {
     "name": "stdout",
     "output_type": "stream",
     "text": [
      "Episod 100: Moving avg 22.68686868686869; Surrogate 605.4149169921875\n",
      "Episod 200: Moving avg 51.08; Surrogate 2219.678955078125\n",
      "Episod 300: Moving avg 63.2; Surrogate 414.86346435546875\n",
      "Episod 400: Moving avg 33.13; Surrogate 716.2607421875\n",
      "Episod 500: Moving avg 60.69; Surrogate 473.6524658203125\n",
      "Episod 600: Moving avg 54.54; Surrogate 4044.833251953125\n",
      "Episod 700: Moving avg 84.35; Surrogate 4530.611328125\n",
      "Episod 800: Moving avg 75.25; Surrogate 7375.48779296875\n",
      "Episod 900: Moving avg 84.67; Surrogate 2269.83935546875\n",
      "Episod 1000: Moving avg 53.25; Surrogate 309.4960021972656\n"
     ]
    }
   ],
   "source": [
    "# keep track of progress\n",
    "scores = []\n",
    "last_hundreds = []\n",
    "\n",
    "for e in range(1000):\n",
    "    # collect trajectories\n",
    "    trajectory = get_trajectory(policy,env,t_max=1000,preprocess=False,diff_state=False,action_list=[0,1])\n",
    "    logprobs, states, actions, rewards = trajectory\n",
    "    \n",
    "    loss = surrogate(trajectory,gamma=1)\n",
    "\n",
    "    #run optimizer\n",
    "    optimizer.zero_grad()\n",
    "    loss.backward()\n",
    "    optimizer.step()\n",
    "    \n",
    "    #record score\n",
    "    last_hundred = np.mean(scores[-100:]) if len(scores) > 0 else 0\n",
    "    last_hundred = np.mean(scores[-100:])\n",
    "    scores.append(np.sum(rewards))\n",
    "    last_hundreds.append(last_hundred)\n",
    "    \n",
    "    #print\n",
    "    if (e+1) % 100 ==0: \n",
    "        print(f'Episod {e+1}: Moving avg {last_hundred}; Surrogate {loss}')"
   ]
  },
  {
   "cell_type": "code",
   "execution_count": 131,
   "metadata": {},
   "outputs": [
    {
     "data": {
      "text/plain": [
       "[<matplotlib.lines.Line2D at 0x7fde47a447b8>]"
      ]
     },
     "execution_count": 131,
     "metadata": {},
     "output_type": "execute_result"
    },
    {
     "data": {
      "image/png": "[encoded data removed]",
      "text/plain": [
       "<Figure size 432x288 with 1 Axes>"
      ]
     },
     "metadata": {},
     "output_type": "display_data"
    }
   ],
   "source": [
    "plt.plot(scores)\n",
    "plt.plot(last_hundreds)"
   ]
  },
  {
   "cell_type": "markdown",
   "metadata": {},
   "source": [
    "### Bonus: How to Derive Gradients of Policy Network"
   ]
  },
  {
   "cell_type": "markdown",
   "metadata": {},
   "source": [
    "<img src=\"img/reinforce_derivation1.png\" alt=\"Derivation 1\"/>\n",
    "<img src=\"img/reinforce_derivation2.png\" alt=\"Derivation 2\"/>"
   ]
  },
  {
   "cell_type": "markdown",
   "metadata": {},
   "source": [
    "## Proximal Policy Optimization (PPO)"
   ]
  },
  {
   "cell_type": "code",
   "execution_count": 81,
   "metadata": {},
   "outputs": [],
   "source": [
    "def surrogate_clipped(trajectory, gamma = 0.995, epsilon = 0.1):\n",
    "    #expand trajectories\n",
    "    logprobs,states,action_idxs,rewards = trajectory\n",
    "\n",
    "    #get discounted rewards\n",
    "    discounts = [gamma**i for i in range(len(rewards)+1)]\n",
    "    discounted_rewards = sum([a*b for a,b in zip(discounts, rewards)])\n",
    "    \n",
    "    #clip logprobs; the only difference between REINFORCE and PPO\n",
    "    logprobs_clipped = torch.clamp(logprobs, 1-epsilon, 1+epsilon)\n",
    "    loss = - torch.min(logprobs*discounted_rewards, logprobs_clipped*discounted_rewards)\n",
    "    return(loss.sum())"
   ]
  },
  {
   "cell_type": "code",
   "execution_count": 83,
   "metadata": {},
   "outputs": [
    {
     "data": {
      "text/plain": [
       "tensor(516.6452, grad_fn=<SumBackward0>)"
      ]
     },
     "execution_count": 83,
     "metadata": {},
     "output_type": "execute_result"
    }
   ],
   "source": [
    "trajectory = get_trajectory(policy,env,t_max=300)\n",
    "L = surrogate_clipped(trajectory)\n",
    "L"
   ]
  },
  {
   "cell_type": "markdown",
   "metadata": {},
   "source": [
    "## Challenges"
   ]
  },
  {
   "cell_type": "markdown",
   "metadata": {},
   "source": [
    "* Try training `Pong-v0` until your agent is as good as rule-based AI (score = 0) using PPO\n",
    "* Try better policy networks. See `nn.Conv2d`."
   ]
  },
  {
   "cell_type": "markdown",
   "metadata": {},
   "source": [
    "## Solutions"
   ]
  },
  {
   "cell_type": "markdown",
   "metadata": {},
   "source": [
    "### Pong Diagnostics"
   ]
  },
  {
   "cell_type": "code",
   "execution_count": null,
   "metadata": {},
   "outputs": [],
   "source": [
    "env.observation_space, env.action_space"
   ]
  },
  {
   "cell_type": "code",
   "execution_count": null,
   "metadata": {},
   "outputs": [],
   "source": [
    "action = np.random.choice([2,3])\n",
    "ep_lens = []\n",
    "\n",
    "for i in trange(30):\n",
    "    env.reset()\n",
    "    ep_len = 0\n",
    "    while True:\n",
    "        ep_len +=1\n",
    "        state, reward, done, info = env.step(action)\n",
    "        if done: break\n",
    "    ep_lens.append(ep_len)\n",
    "    \n",
    "plt.hist(ep_lens)\n",
    "np.mean(ep_lens)"
   ]
  },
  {
   "cell_type": "code",
   "execution_count": null,
   "metadata": {},
   "outputs": [],
   "source": [
    "plt.imshow(state)"
   ]
  },
  {
   "cell_type": "code",
   "execution_count": null,
   "metadata": {},
   "outputs": [],
   "source": []
  }
 ],
 "metadata": {
  "kernelspec": {
   "display_name": "drlnd",
   "language": "python",
   "name": "drlnd"
  },
  "language_info": {
   "codemirror_mode": {
    "name": "ipython",
    "version": 3
   },
   "file_extension": ".py",
   "mimetype": "text/x-python",
   "name": "python",
   "nbconvert_exporter": "python",
   "pygments_lexer": "ipython3",
   "version": "3.6.6"
  }
 },
 "nbformat": 4,
 "nbformat_minor": 2
}
